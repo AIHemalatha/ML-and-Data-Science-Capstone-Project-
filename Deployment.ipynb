{
 "cells": [
  {
   "cell_type": "code",
   "execution_count": 1,
   "id": "99465f64",
   "metadata": {},
   "outputs": [],
   "source": [
    "import pickle"
   ]
  },
  {
   "cell_type": "code",
   "execution_count": 2,
   "id": "662fe5c1",
   "metadata": {},
   "outputs": [
    {
     "name": "stdin",
     "output_type": "stream",
     "text": [
      "SeniorCitizen: 0\n",
      "tenure: 12\n",
      "MonthlyCharges: 70.5\n",
      "TotalCharges: 850.5\n",
      "gender_Male: 1\n",
      "Partner_Yes: 1\n",
      "Dependents_Yes: 0\n",
      "PhoneService_Yes: 1\n",
      "MultipleLines_No phone service: 0\n",
      "MultipleLines_Yes: 1\n",
      "InternetService_Fiber optic: 1\n",
      "InternetService_No: 0\n",
      "OnlineSecurity_No internet service: 0\n",
      "OnlineSecurity_Yes: 1\n",
      "OnlineBackup_No internet service: 0\n",
      "OnlineBackup_Yes: 1\n",
      "DeviceProtection_No internet service: 0\n",
      "DeviceProtection_Yes: 1\n",
      "TechSupport_No internet service: 0\n",
      "TechSupport_Yes: 1\n",
      "StreamingTV_No internet service: 0\n",
      "StreamingTV_Yes: 1\n",
      "StreamingMovies_No internet service: 1\n",
      "StreamingMovies_Yes: 0\n",
      "Contract_One year: 1\n",
      "Contract_Two year: 1\n",
      "PaperlessBilling_Yes: 0\n",
      "PaymentMethod_Credit card (automatic): 1\n",
      "PaymentMethod_Electronic check: 0\n",
      "PaymentMethod_Mailed check: 0\n"
     ]
    }
   ],
   "source": [
    "load_model=pickle.load(open(\"Final_model_TCCP.sav\",'rb'))\n",
    "SeniorCitizen=float(input(\"SeniorCitizen:\"))\n",
    "tenure=float(input(\"tenure:\"))\n",
    "MonthlyCharges=float(input(\"MonthlyCharges:\"))\n",
    "TotalCharges=float(input(\"TotalCharges:\"))\n",
    "gender_Male=float(input(\"gender_Male:\"))\n",
    "Partner_Yes=float(input(\"Partner_Yes:\"))\n",
    "Dependents_Yes=float(input(\"Dependents_Yes:\"))\n",
    "PhoneService_Yes=float(input(\"PhoneService_Yes:\"))\n",
    "MultipleLines_No=float(input(\"MultipleLines_No phone service:\"))\n",
    "MultipleLines_Yes=float(input(\"MultipleLines_Yes:\"))\n",
    "InternetService_Fiber=float(input(\"InternetService_Fiber optic:\"))\n",
    "InternetService_No=float(input(\"InternetService_No:\"))\n",
    "OnlineSecurity_No=float(input(\"OnlineSecurity_No internet service:\"))\n",
    "OnlineSecurity_Yes=float(input(\"OnlineSecurity_Yes:\"))\n",
    "OnlineBackup_No=float(input(\"OnlineBackup_No internet service:\"))\n",
    "OnlineBackup_Yes=float(input(\"OnlineBackup_Yes:\"))\n",
    "DeviceProtection_No=float(input(\"DeviceProtection_No internet service:\"))\n",
    "DeviceProtection_Yes=float(input(\"DeviceProtection_Yes:\"))\n",
    "TechSupport_No=float(input(\"TechSupport_No internet service:\"))\n",
    "TechSupport_Yes=float(input(\"TechSupport_Yes:\"))\n",
    "StreamingTV_No=float(input(\"StreamingTV_No internet service:\"))\n",
    "StreamingTV_Yes=float(input(\"StreamingTV_Yes:\"))\n",
    "StreamingMovies_No=float(input(\"StreamingMovies_No internet service:\"))\n",
    "StreamingMovies_Yes=float(input(\"StreamingMovies_Yes:\"))\n",
    "Contract_One=float(input(\"Contract_One year:\"))\n",
    "Contract_Two=float(input(\"Contract_Two year:\"))\n",
    "PaperlessBilling_Yes=float(input(\"PaperlessBilling_Yes:\"))\n",
    "PaymentMethod_Credit=float(input(\"PaymentMethod_Credit card (automatic):\"))\n",
    "PaymentMethod_Electronic=float(input(\"PaymentMethod_Electronic check:\"))\n",
    "PaymentMethod_Mailed=float(input(\"PaymentMethod_Mailed check:\"))"
   ]
  },
  {
   "cell_type": "code",
   "execution_count": 4,
   "id": "77be462a",
   "metadata": {},
   "outputs": [
    {
     "name": "stdout",
     "output_type": "stream",
     "text": [
      "Future_Prediction=[1]\n"
     ]
    }
   ],
   "source": [
    "Future_Prediction=load_model.predict([[SeniorCitizen,tenure,MonthlyCharges,TotalCharges,gender_Male,Partner_Yes,Dependents_Yes,\n",
    "                                 PhoneService_Yes,MultipleLines_No,MultipleLines_Yes,InternetService_Fiber,InternetService_No,OnlineSecurity_No,\n",
    "                                 OnlineSecurity_Yes,OnlineBackup_No,OnlineBackup_Yes,DeviceProtection_No,DeviceProtection_Yes,TechSupport_No,\n",
    "                                 TechSupport_Yes,StreamingTV_No,StreamingTV_Yes,StreamingMovies_No,StreamingMovies_Yes,Contract_One,\n",
    "                                 Contract_Two,PaperlessBilling_Yes,PaymentMethod_Credit,PaymentMethod_Electronic,PaymentMethod_Mailed]])\n",
    "print(\"Future_Prediction={}\".format(Future_Prediction))"
   ]
  },
  {
   "cell_type": "code",
   "execution_count": null,
   "id": "12864260",
   "metadata": {},
   "outputs": [],
   "source": []
  }
 ],
 "metadata": {
  "kernelspec": {
   "display_name": "Python 3 (ipykernel)",
   "language": "python",
   "name": "python3"
  },
  "language_info": {
   "codemirror_mode": {
    "name": "ipython",
    "version": 3
   },
   "file_extension": ".py",
   "mimetype": "text/x-python",
   "name": "python",
   "nbconvert_exporter": "python",
   "pygments_lexer": "ipython3",
   "version": "3.11.5"
  }
 },
 "nbformat": 4,
 "nbformat_minor": 5
}
