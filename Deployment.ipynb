{
 "cells": [
  {
   "cell_type": "code",
   "execution_count": 12,
   "id": "f9b04e5f-d592-4507-84c0-d62eddc343bc",
   "metadata": {},
   "outputs": [],
   "source": [
    "import pandas as pd\n",
    "import joblib\n",
    "import numpy as np"
   ]
  },
  {
   "cell_type": "code",
   "execution_count": 10,
   "id": "418e26ee-5473-4a6f-a5d7-6d49f465d1e6",
   "metadata": {},
   "outputs": [],
   "source": [
    "model = joblib.load(\"Final_model_TCCP.sav\")\n",
    "\n",
    "# Order of features must match training\n",
    "feature_order = [\n",
    "    \"tenure\",\n",
    "    \"InternetService_Fiber optic\",\n",
    "    \"StreamingMovies_No internet service\",\n",
    "    \"Contract_Two year\",\n",
    "    \"PaymentMethod_Electronic check\",\n",
    "]"
   ]
  },
  {
   "cell_type": "code",
   "execution_count": 13,
   "id": "24d4f663-62be-49ba-b07e-59535e1eec5e",
   "metadata": {},
   "outputs": [
    {
     "name": "stdout",
     "output_type": "stream",
     "text": [
      "\n",
      "Enter values for the five features:\n"
     ]
    },
    {
     "name": "stdin",
     "output_type": "stream",
     "text": [
      "tenure (e.g., 12):  2\n",
      "InternetService_Fiber optic (1=yes,0=no):  0\n",
      "StreamingMovies_No internet service (1=yes,0=no):  0\n",
      "Contract_Two year (1=yes,0=no):  0\n",
      "PaymentMethod_Electronic check (1=yes,0=no):  0\n"
     ]
    }
   ],
   "source": [
    "print(\"\\nEnter values for the five features:\")\n",
    "vals = []\n",
    "vals.append(float(input(\"tenure (e.g., 12): \")))\n",
    "vals.append(int(input(\"InternetService_Fiber optic (1=yes,0=no): \")))\n",
    "vals.append(int(input(\"StreamingMovies_No internet service (1=yes,0=no): \")))\n",
    "vals.append(int(input(\"Contract_Two year (1=yes,0=no): \")))\n",
    "vals.append(int(input(\"PaymentMethod_Electronic check (1=yes,0=no): \")))\n",
    "\n",
    "X_new = np.array([vals], dtype=float)"
   ]
  },
  {
   "cell_type": "code",
   "execution_count": 9,
   "id": "b08d3772-6fc5-4e1e-9bbc-72aae16574ec",
   "metadata": {},
   "outputs": [
    {
     "name": "stdout",
     "output_type": "stream",
     "text": [
      "\n",
      "Future Prediction: Churn\n",
      "Probability of churn: 36.96%\n"
     ]
    },
    {
     "name": "stderr",
     "output_type": "stream",
     "text": [
      "C:\\Anaconda\\envs\\aidl\\Lib\\site-packages\\sklearn\\base.py:493: UserWarning: X does not have valid feature names, but StandardScaler was fitted with feature names\n",
      "  warnings.warn(\n",
      "C:\\Anaconda\\envs\\aidl\\Lib\\site-packages\\sklearn\\base.py:493: UserWarning: X does not have valid feature names, but StandardScaler was fitted with feature names\n",
      "  warnings.warn(\n"
     ]
    }
   ],
   "source": [
    "pred = model.predict(X_new)[0]\n",
    "proba = model.predict_proba(X_new)[0][1]\n",
    "\n",
    "print(\"\\nFuture Prediction :\", \"Churn\" if pred else \"Not Churn\")\n",
    "print(\"Probability:\", f\"{proba:.2%}\")"
   ]
  },
  {
   "cell_type": "code",
   "execution_count": null,
   "id": "1339339b-14ad-4888-b27a-b54db51b60bb",
   "metadata": {},
   "outputs": [],
   "source": []
  }
 ],
 "metadata": {
  "kernelspec": {
   "display_name": "Python 3 (ipykernel)",
   "language": "python",
   "name": "python3"
  },
  "language_info": {
   "codemirror_mode": {
    "name": "ipython",
    "version": 3
   },
   "file_extension": ".py",
   "mimetype": "text/x-python",
   "name": "python",
   "nbconvert_exporter": "python",
   "pygments_lexer": "ipython3",
   "version": "3.11.5"
  }
 },
 "nbformat": 4,
 "nbformat_minor": 5
}
