{
 "cells": [
  {
   "cell_type": "code",
   "execution_count": 1,
   "id": "99465f64",
   "metadata": {},
   "outputs": [],
   "source": [
    "import pickle"
   ]
  },
  {
   "cell_type": "code",
   "execution_count": 2,
   "id": "662fe5c1",
   "metadata": {},
   "outputs": [
    {
     "name": "stdin",
     "output_type": "stream",
     "text": [
      "tenure: 12\n",
      "InternetService_Fiber optic: 1\n",
      "StreamingMovies_No internet service: 1\n",
      "Contract_Two year: 0\n",
      "PaymentMethod_Electronic check: 1\n"
     ]
    }
   ],
   "source": [
    "load_model=pickle.load(open(\"Final_model_TCCP.sav\",'rb'))\n",
    "tenure=float(input(\"tenure:\"))\n",
    "InternetService_Fiber=float(input(\"InternetService_Fiber optic:\"))\n",
    "StreamingMovies_No=float(input(\"StreamingMovies_No internet service:\"))\n",
    "Contract_Two=float(input(\"Contract_Two year:\"))\n",
    "PaymentMethod_Electronic=float(input(\"PaymentMethod_Electronic check:\"))"
   ]
  },
  {
   "cell_type": "code",
   "execution_count": 4,
   "id": "77be462a",
   "metadata": {},
   "outputs": [
    {
     "name": "stdout",
     "output_type": "stream",
     "text": [
      "Future_Prediction= No Churn\n"
     ]
    }
   ],
   "source": [
    "Future_Prediction=load_model.predict([[tenure,InternetService_Fiber,StreamingMovies_No,Contract_Two,PaymentMethod_Electronic]])\n",
    "print(\"Future_Prediction=\", \"Churn\" if Future_Prediction[0] == 1 else \"No Churn\")"
   ]
  },
  {
   "cell_type": "code",
   "execution_count": 5,
   "id": "12864260",
   "metadata": {},
   "outputs": [],
   "source": [
    "#So based on above input the customer can be Churn"
   ]
  },
  {
   "cell_type": "code",
   "execution_count": null,
   "id": "edb0abee-7441-4bb1-a7f5-75878a30215d",
   "metadata": {},
   "outputs": [],
   "source": []
  }
 ],
 "metadata": {
  "kernelspec": {
   "display_name": "Python 3 (ipykernel)",
   "language": "python",
   "name": "python3"
  },
  "language_info": {
   "codemirror_mode": {
    "name": "ipython",
    "version": 3
   },
   "file_extension": ".py",
   "mimetype": "text/x-python",
   "name": "python",
   "nbconvert_exporter": "python",
   "pygments_lexer": "ipython3",
   "version": "3.11.5"
  }
 },
 "nbformat": 4,
 "nbformat_minor": 5
}
