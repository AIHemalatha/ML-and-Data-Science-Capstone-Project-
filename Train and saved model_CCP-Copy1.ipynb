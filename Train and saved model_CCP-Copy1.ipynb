{
 "cells": [
  {
   "cell_type": "code",
   "execution_count": 1,
   "id": "715fc438-5576-4991-936e-f2f8027be6f3",
   "metadata": {},
   "outputs": [],
   "source": [
    "import pandas as pd\n",
    "from sklearn.model_selection import train_test_split\n",
    "from sklearn.preprocessing import StandardScaler\n",
    "from sklearn.feature_selection import SelectKBest, f_classif\n",
    "from sklearn.linear_model import LogisticRegression\n",
    "from sklearn.pipeline import Pipeline\n",
    "import joblib"
   ]
  },
  {
   "cell_type": "code",
   "execution_count": 2,
   "id": "0f0b6c25-447a-4d42-916e-cb5658bd1aba",
   "metadata": {},
   "outputs": [],
   "source": [
    "# Load and prepare data\n",
    "dataset = pd.read_csv(\"PreTelco-Customer-Churn.csv\")\n",
    "dataset['Churn'] = dataset['Churn'].map({'Yes': 1, 'No': 0})\n",
    "dataset = pd.get_dummies(dataset, drop_first=True)\n",
    "\n",
    "X = dataset.drop('Churn', axis=1)\n",
    "y = dataset['Churn']"
   ]
  },
  {
   "cell_type": "code",
   "execution_count": 3,
   "id": "e8169892-7683-4d0f-8d97-8e5a72f32faa",
   "metadata": {},
   "outputs": [
    {
     "data": {
      "text/plain": [
       "['Final_model_pipeline.sav']"
      ]
     },
     "execution_count": 3,
     "metadata": {},
     "output_type": "execute_result"
    }
   ],
   "source": [
    "# Build the full pipeline\n",
    "model_pipeline = Pipeline([\n",
    "    ('scaler', StandardScaler()),\n",
    "    ('selector', SelectKBest(score_func=f_classif, k=5)),\n",
    "    ('model', LogisticRegression())\n",
    "])\n",
    "\n",
    "# Fit pipeline\n",
    "model_pipeline.fit(X, y)\n",
    "\n",
    "# Save the entire pipeline in one file\n",
    "joblib.dump(model_pipeline, \"Final_model_pipeline.sav\")"
   ]
  },
  {
   "cell_type": "code",
   "execution_count": null,
   "id": "92fe9c81-4ab1-436b-b1d8-c06761392e2d",
   "metadata": {},
   "outputs": [],
   "source": []
  }
 ],
 "metadata": {
  "kernelspec": {
   "display_name": "Python 3 (ipykernel)",
   "language": "python",
   "name": "python3"
  },
  "language_info": {
   "codemirror_mode": {
    "name": "ipython",
    "version": 3
   },
   "file_extension": ".py",
   "mimetype": "text/x-python",
   "name": "python",
   "nbconvert_exporter": "python",
   "pygments_lexer": "ipython3",
   "version": "3.11.5"
  }
 },
 "nbformat": 4,
 "nbformat_minor": 5
}
