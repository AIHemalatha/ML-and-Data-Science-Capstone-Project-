{
 "cells": [
  {
   "cell_type": "code",
   "execution_count": 1,
   "id": "a318b155-aaec-4472-9b61-5c57045d2be5",
   "metadata": {},
   "outputs": [],
   "source": [
    "# Step 1: Import Libraries\n",
    "import pandas as pd\n",
    "import joblib"
   ]
  },
  {
   "cell_type": "code",
   "execution_count": 2,
   "id": "96efa281-0494-4952-8d79-42d60871ad10",
   "metadata": {},
   "outputs": [],
   "source": [
    "# Step 2: Load Saved Pipeline\n",
    "model_pipeline = joblib.load(\"deployment/best_model_pipeline.pkl\")\n",
    "\n",
    "# Step 3: Load Full Feature List\n",
    "full_feature_list = joblib.load(\"deployment/full_feature_list.pkl\")"
   ]
  },
  {
   "cell_type": "code",
   "execution_count": 3,
   "id": "1bc7c2f3-7f0a-40c4-83a8-80a1ed330a5d",
   "metadata": {},
   "outputs": [
    {
     "name": "stdin",
     "output_type": "stream",
     "text": [
      "SeniorCitizen (0 or 1):  0\n",
      "Tenure (e.g., 12):  12\n",
      "Monthly Charges (e.g., 70.5):  70.5\n",
      "Total Charges (e.g., 840):  840\n",
      "Male? (1 = Yes, 0 = No):  1\n",
      "Has Partner? (1 = Yes, 0 = No):  0\n",
      "Has Dependents? (1 = Yes, 0 = No):  0\n",
      "Phone Service? (1 = Yes, 0 = No):  1\n",
      "No phone service? (1 or 0):  1\n",
      "Multiple lines? (1 or 0):  0\n",
      "Fiber optic internet? (1 or 0):  1\n",
      "No internet? (1 or 0):  0\n",
      "No internet service (OnlineSecurity)? (1 or 0):  1\n",
      "OnlineSecurity enabled? (1 or 0):  0\n",
      "No internet service (OnlineBackup)? (1 or 0):  1\n",
      "OnlineBackup enabled? (1 or 0):  0\n",
      "No internet service (DeviceProtection)? (1 or 0):  1\n",
      "DeviceProtection enabled? (1 or 0):  0\n",
      "No internet service (TechSupport)? (1 or 0):  1\n",
      "TechSupport enabled? (1 or 0):  0\n",
      "No internet service (StreamingTV)? (1 or 0):  1\n",
      "StreamingTV enabled? (1 or 0):  0\n",
      "No internet service (StreamingMovies)? (1 or 0):  1\n",
      "StreamingMovies enabled? (1 or 0):  0\n",
      "Contract - One year? (1 or 0):  1\n",
      "Contract - Two year? (1 or 0):  0\n",
      "Paperless Billing? (1 or 0):  1\n",
      "Payment - Credit card (automatic)? (1 or 0):  0\n",
      "Payment - Electronic check? (1 or 0):  1\n",
      "Payment - Mailed check? (1 or 0):  0\n"
     ]
    }
   ],
   "source": [
    "# Define all the required input fields\n",
    "input_dict = {}\n",
    "\n",
    "input_dict['SeniorCitizen'] = int(input(\"SeniorCitizen (0 or 1): \"))\n",
    "input_dict['tenure'] = int(input(\"Tenure (e.g., 12): \"))\n",
    "input_dict['MonthlyCharges'] = float(input(\"Monthly Charges (e.g., 70.5): \"))\n",
    "input_dict['TotalCharges'] = float(input(\"Total Charges (e.g., 840): \"))\n",
    "\n",
    "# One-hot encoded binary features (enter 1 or 0)\n",
    "input_dict['gender_Male'] = int(input(\"Male? (1 = Yes, 0 = No): \"))\n",
    "input_dict['Partner_Yes'] = int(input(\"Has Partner? (1 = Yes, 0 = No): \"))\n",
    "input_dict['Dependents_Yes'] = int(input(\"Has Dependents? (1 = Yes, 0 = No): \"))\n",
    "input_dict['PhoneService_Yes'] = int(input(\"Phone Service? (1 = Yes, 0 = No): \"))\n",
    "input_dict['MultipleLines_No phone service'] = int(input(\"No phone service? (1 or 0): \"))\n",
    "input_dict['MultipleLines_Yes'] = int(input(\"Multiple lines? (1 or 0): \"))\n",
    "input_dict['InternetService_Fiber optic'] = int(input(\"Fiber optic internet? (1 or 0): \"))\n",
    "input_dict['InternetService_No'] = int(input(\"No internet? (1 or 0): \"))\n",
    "input_dict['OnlineSecurity_No internet service'] = int(input(\"No internet service (OnlineSecurity)? (1 or 0): \"))\n",
    "input_dict['OnlineSecurity_Yes'] = int(input(\"OnlineSecurity enabled? (1 or 0): \"))\n",
    "input_dict['OnlineBackup_No internet service'] = int(input(\"No internet service (OnlineBackup)? (1 or 0): \"))\n",
    "input_dict['OnlineBackup_Yes'] = int(input(\"OnlineBackup enabled? (1 or 0): \"))\n",
    "input_dict['DeviceProtection_No internet service'] = int(input(\"No internet service (DeviceProtection)? (1 or 0): \"))\n",
    "input_dict['DeviceProtection_Yes'] = int(input(\"DeviceProtection enabled? (1 or 0): \"))\n",
    "input_dict['TechSupport_No internet service'] = int(input(\"No internet service (TechSupport)? (1 or 0): \"))\n",
    "input_dict['TechSupport_Yes'] = int(input(\"TechSupport enabled? (1 or 0): \"))\n",
    "input_dict['StreamingTV_No internet service'] = int(input(\"No internet service (StreamingTV)? (1 or 0): \"))\n",
    "input_dict['StreamingTV_Yes'] = int(input(\"StreamingTV enabled? (1 or 0): \"))\n",
    "input_dict['StreamingMovies_No internet service'] = int(input(\"No internet service (StreamingMovies)? (1 or 0): \"))\n",
    "input_dict['StreamingMovies_Yes'] = int(input(\"StreamingMovies enabled? (1 or 0): \"))\n",
    "input_dict['Contract_One year'] = int(input(\"Contract - One year? (1 or 0): \"))\n",
    "input_dict['Contract_Two year'] = int(input(\"Contract - Two year? (1 or 0): \"))\n",
    "input_dict['PaperlessBilling_Yes'] = int(input(\"Paperless Billing? (1 or 0): \"))\n",
    "input_dict['PaymentMethod_Credit card (automatic)'] = int(input(\"Payment - Credit card (automatic)? (1 or 0): \"))\n",
    "input_dict['PaymentMethod_Electronic check'] = int(input(\"Payment - Electronic check? (1 or 0): \"))\n",
    "input_dict['PaymentMethod_Mailed check'] = int(input(\"Payment - Mailed check? (1 or 0): \"))\n",
    "\n",
    "# Convert to DataFrame\n",
    "new_data = pd.DataFrame([input_dict])"
   ]
  },
  {
   "cell_type": "code",
   "execution_count": 6,
   "id": "8b539a2d-ecd5-4b97-9479-955f91189729",
   "metadata": {},
   "outputs": [],
   "source": [
    "# Step 5: Align new data with training features\n",
    "for col in full_feature_list:\n",
    "    if col not in new_data.columns:\n",
    "        new_data[col] = 0\n",
    "new_data = new_data[full_feature_list]"
   ]
  },
  {
   "cell_type": "code",
   "execution_count": 7,
   "id": "d3259605-f4c1-47fb-b3a3-d6bc0eba289f",
   "metadata": {},
   "outputs": [
    {
     "name": "stdout",
     "output_type": "stream",
     "text": [
      "Churn Prediction: Yes\n",
      "Probability of churn: 59.61%\n"
     ]
    }
   ],
   "source": [
    "# Step 6: Make Prediction\n",
    "prediction = model_pipeline.predict(new_data)\n",
    "proba      = model_pipeline.predict_proba(new_data)[:,1]  # optional probability\n",
    "print(\"Churn Prediction:\", \"Yes\" if prediction[0] == 1 else \"No\")\n",
    "print(\"Probability of churn:\", f\"{proba[0]:.2%}\")"
   ]
  },
  {
   "cell_type": "code",
   "execution_count": null,
   "id": "db27823b-c01f-4b8e-a0e2-8caf5c705829",
   "metadata": {},
   "outputs": [],
   "source": []
  }
 ],
 "metadata": {
  "kernelspec": {
   "display_name": "Python 3 (ipykernel)",
   "language": "python",
   "name": "python3"
  },
  "language_info": {
   "codemirror_mode": {
    "name": "ipython",
    "version": 3
   },
   "file_extension": ".py",
   "mimetype": "text/x-python",
   "name": "python",
   "nbconvert_exporter": "python",
   "pygments_lexer": "ipython3",
   "version": "3.11.5"
  }
 },
 "nbformat": 4,
 "nbformat_minor": 5
}
