{
 "cells": [
  {
   "cell_type": "code",
   "execution_count": 1,
   "id": "a318b155-aaec-4472-9b61-5c57045d2be5",
   "metadata": {},
   "outputs": [],
   "source": [
    "# Step 1: Import Libraries\n",
    "import pandas as pd\n",
    "import joblib"
   ]
  },
  {
   "cell_type": "code",
   "execution_count": 2,
   "id": "96efa281-0494-4952-8d79-42d60871ad10",
   "metadata": {},
   "outputs": [],
   "source": [
    "# Step 2: Load Saved Pipeline\n",
    "model_pipeline = joblib.load(\"deployment/best_model_pipeline.pkl\")\n",
    "\n",
    "# Step 3: Load Full Feature List\n",
    "full_feature_list = joblib.load(\"deployment/full_feature_list.pkl\")"
   ]
  },
  {
   "cell_type": "code",
   "execution_count": 3,
   "id": "1acc6d59-6173-46cf-8815-978680c0972c",
   "metadata": {},
   "outputs": [],
   "source": [
    "# Step 4: Prepare New Input Data (replace values as needed)\n",
    "new_data = pd.DataFrame([{\n",
    "    'SeniorCitizen': 0,\n",
    "    'tenure': 12,\n",
    "    'MonthlyCharges': 70.0,\n",
    "    'TotalCharges': 840.0,\n",
    "    'gender_Male': 1,\n",
    "    'Partner_Yes': 0,\n",
    "    'Dependents_Yes': 0,\n",
    "    'PhoneService_Yes': 1,\n",
    "    'MultipleLines_No phone service':1,\n",
    "    'MultipleLines_Yes': 0,\n",
    "    'InternetService_Fiber optic': 1,\n",
    "    'InternetService_No': 0,\n",
    "    'OnlineSecurity_No internet service': 1,\n",
    "    'OnlineSecurity_Yes': 0,\n",
    "    'OnlineBackup_No internet service': 1,\n",
    "    'OnlineBackup_Yes': 0,\n",
    "    'DeviceProtection_No internet service': 0,\n",
    "    'DeviceProtection_Yes': 1,\n",
    "    'TechSupport_No internet service': 1,\n",
    "    'TechSupport_Yes': 0,\n",
    "    'StreamingTV_Yes': 0,\n",
    "    'StreamingTV_No internet service': 1,\n",
    "    'StreamingMovies_No internet service': 1,\n",
    "    'StreamingMovies_Yes': 0,\n",
    "    'Contract_One year': 1,\n",
    "    'Contract_Two year': 0,\n",
    "    'PaperlessBilling_Yes': 1,\n",
    "    'PaymentMethod_Credit card (automatic)': 0,\n",
    "    'PaymentMethod_Electronic check': 1,\n",
    "    'PaymentMethod_Mailed check': 0\n",
    "}])"
   ]
  },
  {
   "cell_type": "code",
   "execution_count": 4,
   "id": "8b539a2d-ecd5-4b97-9479-955f91189729",
   "metadata": {},
   "outputs": [],
   "source": [
    "# Step 5: Align new data with training features\n",
    "for col in full_feature_list:\n",
    "    if col not in new_data.columns:\n",
    "        new_data[col] = 0\n",
    "new_data = new_data[full_feature_list]"
   ]
  },
  {
   "cell_type": "code",
   "execution_count": 5,
   "id": "d3259605-f4c1-47fb-b3a3-d6bc0eba289f",
   "metadata": {},
   "outputs": [
    {
     "name": "stdout",
     "output_type": "stream",
     "text": [
      "Churn Prediction: Yes\n",
      "Probability of churn: 59.61%\n"
     ]
    }
   ],
   "source": [
    "# Step 6: Make Prediction\n",
    "prediction = model_pipeline.predict(new_data)\n",
    "proba      = model_pipeline.predict_proba(new_data)[:,1]  # optional probability\n",
    "print(\"Churn Prediction:\", \"Yes\" if prediction[0] == 1 else \"No\")\n",
    "print(\"Probability of churn:\", f\"{proba[0]:.2%}\")"
   ]
  },
  {
   "cell_type": "code",
   "execution_count": null,
   "id": "db27823b-c01f-4b8e-a0e2-8caf5c705829",
   "metadata": {},
   "outputs": [],
   "source": []
  }
 ],
 "metadata": {
  "kernelspec": {
   "display_name": "Python 3 (ipykernel)",
   "language": "python",
   "name": "python3"
  },
  "language_info": {
   "codemirror_mode": {
    "name": "ipython",
    "version": 3
   },
   "file_extension": ".py",
   "mimetype": "text/x-python",
   "name": "python",
   "nbconvert_exporter": "python",
   "pygments_lexer": "ipython3",
   "version": "3.11.5"
  }
 },
 "nbformat": 4,
 "nbformat_minor": 5
}
