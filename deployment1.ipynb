{
 "cells": [
  {
   "cell_type": "code",
   "execution_count": 1,
   "id": "32ac9a90-9bb6-4895-a4d2-6c0791323010",
   "metadata": {},
   "outputs": [],
   "source": [
    "# Step 1: Import necessary libraries\n",
    "import pandas as pd\n",
    "import joblib"
   ]
  },
  {
   "cell_type": "code",
   "execution_count": 4,
   "id": "19009cde-067f-4af6-9d81-6fcfb7e17cb6",
   "metadata": {},
   "outputs": [],
   "source": [
    "# Step 2: Load saved pipeline components\n",
    "model = joblib.load(\"deployment/best_model_pipeline.pkl\")\n",
    "scaler = joblib.load(\"scaler.pkl\")\n",
    "selector = joblib.load(\"selector_mutual.pkl\")\n",
    "logistic = joblib.load(\"logistic_model.pkl\")\n",
    "full_feature_list = joblib.load(\"deployment/full_feature_list.pkl\")  # feature names before selection"
   ]
  },
  {
   "cell_type": "code",
   "execution_count": 5,
   "id": "dec4d2f5-24e1-4c39-84b6-9b44f9d52c62",
   "metadata": {},
   "outputs": [],
   "source": [
    "# Step 3: Prepare new data for prediction\n",
    "new_data = pd.DataFrame([{\n",
    "    'SeniorCitizen': 0,\n",
    "    'tenure': 12,\n",
    "    'MonthlyCharges': 70.0,\n",
    "    'TotalCharges': 840.0,\n",
    "    'gender_Male': 1,\n",
    "    'Partner_Yes': 0,\n",
    "    'Dependents_Yes': 0,\n",
    "    'PhoneService_Yes': 1,\n",
    "    'MultipleLines_No phone service': 1,\n",
    "    'MultipleLines_Yes': 0,\n",
    "    'InternetService_Fiber optic': 1,\n",
    "    'InternetService_No': 0,\n",
    "    'OnlineSecurity_No internet service': 1,\n",
    "    'OnlineSecurity_Yes': 0,\n",
    "    'OnlineBackup_No internet service': 1,\n",
    "    'OnlineBackup_Yes': 1,\n",
    "    'DeviceProtection_No internet service': 0,\n",
    "    'DeviceProtection_Yes': 1,\n",
    "    'TechSupport_No internet service': 1,\n",
    "    'TechSupport_Yes': 0,\n",
    "    'StreamingTV_Yes': 0,\n",
    "    'StreamingTV_No internet service': 1,\n",
    "    'StreamingMovies_No internet service': 0,\n",
    "    'StreamingMovies_Yes': 0,\n",
    "    'Contract_One year': 1,\n",
    "    'Contract_Two year': 0,\n",
    "    'PaperlessBilling_Yes': 1,\n",
    "    'PaymentMethod_Credit card (automatic)': 0,\n",
    "    'PaymentMethod_Electronic check': 1,\n",
    "    'PaymentMethod_Mailed check': 0\n",
    "}])"
   ]
  },
  {
   "cell_type": "code",
   "execution_count": 6,
   "id": "a11ce6d8-c06c-4515-8e37-9e211f5abf02",
   "metadata": {},
   "outputs": [],
   "source": [
    "# Step 4: Align new data to full feature list (fill missing features with 0)\n",
    "for col in full_feature_list:\n",
    "    if col not in new_data.columns:\n",
    "        new_data[col] = 0\n",
    "new_data = new_data[full_feature_list]"
   ]
  },
  {
   "cell_type": "code",
   "execution_count": 9,
   "id": "f8ce7ea8-d801-43f0-be17-1e55636a468d",
   "metadata": {},
   "outputs": [],
   "source": [
    "# Align new data columns with training features\n",
    "new_data = new_data.reindex(columns=full_feature_list, fill_value=0)\n",
    "# Step 5: Apply feature selection and scaling\n",
    "X_selected = selector.transform(new_data)\n",
    "X_scaled = scaler.transform(X_selected)"
   ]
  },
  {
   "cell_type": "code",
   "execution_count": 10,
   "id": "5b5cff39-07b4-43bc-9466-54725780e93c",
   "metadata": {},
   "outputs": [
    {
     "name": "stderr",
     "output_type": "stream",
     "text": [
      "C:\\Anaconda\\envs\\aidl\\Lib\\site-packages\\sklearn\\base.py:493: UserWarning: X does not have valid feature names, but SelectKBest was fitted with feature names\n",
      "  warnings.warn(\n"
     ]
    },
    {
     "ename": "ValueError",
     "evalue": "X has 10 features, but SelectKBest is expecting 30 features as input.",
     "output_type": "error",
     "traceback": [
      "\u001b[1;31m---------------------------------------------------------------------------\u001b[0m",
      "\u001b[1;31mValueError\u001b[0m                                Traceback (most recent call last)",
      "Cell \u001b[1;32mIn[10], line 2\u001b[0m\n\u001b[0;32m      1\u001b[0m \u001b[38;5;66;03m# Step 6: Make prediction\u001b[39;00m\n\u001b[1;32m----> 2\u001b[0m prediction \u001b[38;5;241m=\u001b[39m model\u001b[38;5;241m.\u001b[39mpredict(X_scaled)\n\u001b[0;32m      3\u001b[0m proba      \u001b[38;5;241m=\u001b[39m model\u001b[38;5;241m.\u001b[39mpredict_proba(X_scaled)[:,\u001b[38;5;241m1\u001b[39m]  \u001b[38;5;66;03m# optional probability\u001b[39;00m\n\u001b[0;32m      4\u001b[0m \u001b[38;5;28mprint\u001b[39m(\u001b[38;5;124m\"\u001b[39m\u001b[38;5;124mChurn Prediction:\u001b[39m\u001b[38;5;124m\"\u001b[39m, \u001b[38;5;124m\"\u001b[39m\u001b[38;5;124mYes\u001b[39m\u001b[38;5;124m\"\u001b[39m \u001b[38;5;28;01mif\u001b[39;00m prediction[\u001b[38;5;241m0\u001b[39m] \u001b[38;5;241m==\u001b[39m \u001b[38;5;241m1\u001b[39m \u001b[38;5;28;01melse\u001b[39;00m \u001b[38;5;124m\"\u001b[39m\u001b[38;5;124mNo\u001b[39m\u001b[38;5;124m\"\u001b[39m)\n",
      "File \u001b[1;32mC:\\Anaconda\\envs\\aidl\\Lib\\site-packages\\sklearn\\pipeline.py:603\u001b[0m, in \u001b[0;36mPipeline.predict\u001b[1;34m(self, X, **params)\u001b[0m\n\u001b[0;32m    601\u001b[0m \u001b[38;5;28;01mif\u001b[39;00m \u001b[38;5;129;01mnot\u001b[39;00m _routing_enabled():\n\u001b[0;32m    602\u001b[0m     \u001b[38;5;28;01mfor\u001b[39;00m _, name, transform \u001b[38;5;129;01min\u001b[39;00m \u001b[38;5;28mself\u001b[39m\u001b[38;5;241m.\u001b[39m_iter(with_final\u001b[38;5;241m=\u001b[39m\u001b[38;5;28;01mFalse\u001b[39;00m):\n\u001b[1;32m--> 603\u001b[0m         Xt \u001b[38;5;241m=\u001b[39m transform\u001b[38;5;241m.\u001b[39mtransform(Xt)\n\u001b[0;32m    604\u001b[0m     \u001b[38;5;28;01mreturn\u001b[39;00m \u001b[38;5;28mself\u001b[39m\u001b[38;5;241m.\u001b[39msteps[\u001b[38;5;241m-\u001b[39m\u001b[38;5;241m1\u001b[39m][\u001b[38;5;241m1\u001b[39m]\u001b[38;5;241m.\u001b[39mpredict(Xt, \u001b[38;5;241m*\u001b[39m\u001b[38;5;241m*\u001b[39mparams)\n\u001b[0;32m    606\u001b[0m \u001b[38;5;66;03m# metadata routing enabled\u001b[39;00m\n",
      "File \u001b[1;32mC:\\Anaconda\\envs\\aidl\\Lib\\site-packages\\sklearn\\utils\\_set_output.py:313\u001b[0m, in \u001b[0;36m_wrap_method_output.<locals>.wrapped\u001b[1;34m(self, X, *args, **kwargs)\u001b[0m\n\u001b[0;32m    311\u001b[0m \u001b[38;5;129m@wraps\u001b[39m(f)\n\u001b[0;32m    312\u001b[0m \u001b[38;5;28;01mdef\u001b[39;00m \u001b[38;5;21mwrapped\u001b[39m(\u001b[38;5;28mself\u001b[39m, X, \u001b[38;5;241m*\u001b[39margs, \u001b[38;5;241m*\u001b[39m\u001b[38;5;241m*\u001b[39mkwargs):\n\u001b[1;32m--> 313\u001b[0m     data_to_wrap \u001b[38;5;241m=\u001b[39m f(\u001b[38;5;28mself\u001b[39m, X, \u001b[38;5;241m*\u001b[39margs, \u001b[38;5;241m*\u001b[39m\u001b[38;5;241m*\u001b[39mkwargs)\n\u001b[0;32m    314\u001b[0m     \u001b[38;5;28;01mif\u001b[39;00m \u001b[38;5;28misinstance\u001b[39m(data_to_wrap, \u001b[38;5;28mtuple\u001b[39m):\n\u001b[0;32m    315\u001b[0m         \u001b[38;5;66;03m# only wrap the first output for cross decomposition\u001b[39;00m\n\u001b[0;32m    316\u001b[0m         return_tuple \u001b[38;5;241m=\u001b[39m (\n\u001b[0;32m    317\u001b[0m             _wrap_data_with_container(method, data_to_wrap[\u001b[38;5;241m0\u001b[39m], X, \u001b[38;5;28mself\u001b[39m),\n\u001b[0;32m    318\u001b[0m             \u001b[38;5;241m*\u001b[39mdata_to_wrap[\u001b[38;5;241m1\u001b[39m:],\n\u001b[0;32m    319\u001b[0m         )\n",
      "File \u001b[1;32mC:\\Anaconda\\envs\\aidl\\Lib\\site-packages\\sklearn\\feature_selection\\_base.py:102\u001b[0m, in \u001b[0;36mSelectorMixin.transform\u001b[1;34m(self, X)\u001b[0m\n\u001b[0;32m     98\u001b[0m preserve_X \u001b[38;5;241m=\u001b[39m output_config_dense \u001b[38;5;241m!=\u001b[39m \u001b[38;5;124m\"\u001b[39m\u001b[38;5;124mdefault\u001b[39m\u001b[38;5;124m\"\u001b[39m \u001b[38;5;129;01mand\u001b[39;00m _is_pandas_df(X)\n\u001b[0;32m    100\u001b[0m \u001b[38;5;66;03m# note: we use _safe_tags instead of _get_tags because this is a\u001b[39;00m\n\u001b[0;32m    101\u001b[0m \u001b[38;5;66;03m# public Mixin.\u001b[39;00m\n\u001b[1;32m--> 102\u001b[0m X \u001b[38;5;241m=\u001b[39m \u001b[38;5;28mself\u001b[39m\u001b[38;5;241m.\u001b[39m_validate_data(\n\u001b[0;32m    103\u001b[0m     X,\n\u001b[0;32m    104\u001b[0m     dtype\u001b[38;5;241m=\u001b[39m\u001b[38;5;28;01mNone\u001b[39;00m,\n\u001b[0;32m    105\u001b[0m     accept_sparse\u001b[38;5;241m=\u001b[39m\u001b[38;5;124m\"\u001b[39m\u001b[38;5;124mcsr\u001b[39m\u001b[38;5;124m\"\u001b[39m,\n\u001b[0;32m    106\u001b[0m     force_all_finite\u001b[38;5;241m=\u001b[39m\u001b[38;5;129;01mnot\u001b[39;00m _safe_tags(\u001b[38;5;28mself\u001b[39m, key\u001b[38;5;241m=\u001b[39m\u001b[38;5;124m\"\u001b[39m\u001b[38;5;124mallow_nan\u001b[39m\u001b[38;5;124m\"\u001b[39m),\n\u001b[0;32m    107\u001b[0m     cast_to_ndarray\u001b[38;5;241m=\u001b[39m\u001b[38;5;129;01mnot\u001b[39;00m preserve_X,\n\u001b[0;32m    108\u001b[0m     reset\u001b[38;5;241m=\u001b[39m\u001b[38;5;28;01mFalse\u001b[39;00m,\n\u001b[0;32m    109\u001b[0m )\n\u001b[0;32m    110\u001b[0m \u001b[38;5;28;01mreturn\u001b[39;00m \u001b[38;5;28mself\u001b[39m\u001b[38;5;241m.\u001b[39m_transform(X)\n",
      "File \u001b[1;32mC:\\Anaconda\\envs\\aidl\\Lib\\site-packages\\sklearn\\base.py:654\u001b[0m, in \u001b[0;36mBaseEstimator._validate_data\u001b[1;34m(self, X, y, reset, validate_separately, cast_to_ndarray, **check_params)\u001b[0m\n\u001b[0;32m    651\u001b[0m     out \u001b[38;5;241m=\u001b[39m X, y\n\u001b[0;32m    653\u001b[0m \u001b[38;5;28;01mif\u001b[39;00m \u001b[38;5;129;01mnot\u001b[39;00m no_val_X \u001b[38;5;129;01mand\u001b[39;00m check_params\u001b[38;5;241m.\u001b[39mget(\u001b[38;5;124m\"\u001b[39m\u001b[38;5;124mensure_2d\u001b[39m\u001b[38;5;124m\"\u001b[39m, \u001b[38;5;28;01mTrue\u001b[39;00m):\n\u001b[1;32m--> 654\u001b[0m     \u001b[38;5;28mself\u001b[39m\u001b[38;5;241m.\u001b[39m_check_n_features(X, reset\u001b[38;5;241m=\u001b[39mreset)\n\u001b[0;32m    656\u001b[0m \u001b[38;5;28;01mreturn\u001b[39;00m out\n",
      "File \u001b[1;32mC:\\Anaconda\\envs\\aidl\\Lib\\site-packages\\sklearn\\base.py:443\u001b[0m, in \u001b[0;36mBaseEstimator._check_n_features\u001b[1;34m(self, X, reset)\u001b[0m\n\u001b[0;32m    440\u001b[0m     \u001b[38;5;28;01mreturn\u001b[39;00m\n\u001b[0;32m    442\u001b[0m \u001b[38;5;28;01mif\u001b[39;00m n_features \u001b[38;5;241m!=\u001b[39m \u001b[38;5;28mself\u001b[39m\u001b[38;5;241m.\u001b[39mn_features_in_:\n\u001b[1;32m--> 443\u001b[0m     \u001b[38;5;28;01mraise\u001b[39;00m \u001b[38;5;167;01mValueError\u001b[39;00m(\n\u001b[0;32m    444\u001b[0m         \u001b[38;5;124mf\u001b[39m\u001b[38;5;124m\"\u001b[39m\u001b[38;5;124mX has \u001b[39m\u001b[38;5;132;01m{\u001b[39;00mn_features\u001b[38;5;132;01m}\u001b[39;00m\u001b[38;5;124m features, but \u001b[39m\u001b[38;5;132;01m{\u001b[39;00m\u001b[38;5;28mself\u001b[39m\u001b[38;5;241m.\u001b[39m\u001b[38;5;18m__class__\u001b[39m\u001b[38;5;241m.\u001b[39m\u001b[38;5;18m__name__\u001b[39m\u001b[38;5;132;01m}\u001b[39;00m\u001b[38;5;124m \u001b[39m\u001b[38;5;124m\"\u001b[39m\n\u001b[0;32m    445\u001b[0m         \u001b[38;5;124mf\u001b[39m\u001b[38;5;124m\"\u001b[39m\u001b[38;5;124mis expecting \u001b[39m\u001b[38;5;132;01m{\u001b[39;00m\u001b[38;5;28mself\u001b[39m\u001b[38;5;241m.\u001b[39mn_features_in_\u001b[38;5;132;01m}\u001b[39;00m\u001b[38;5;124m features as input.\u001b[39m\u001b[38;5;124m\"\u001b[39m\n\u001b[0;32m    446\u001b[0m     )\n",
      "\u001b[1;31mValueError\u001b[0m: X has 10 features, but SelectKBest is expecting 30 features as input."
     ]
    }
   ],
   "source": [
    "# Step 6: Make prediction\n",
    "prediction = model.predict(X_scaled)\n",
    "proba      = model.predict_proba(X_scaled)[:,1]  # optional probability\n",
    "print(\"Churn Prediction:\", \"Yes\" if prediction[0] == 1 else \"No\")\n",
    "print(\"Probability of churn:\", f\"{proba[0]:.2%}\")"
   ]
  },
  {
   "cell_type": "code",
   "execution_count": null,
   "id": "a85d3f4e-3ceb-4a45-8b1d-2b24e0ba123f",
   "metadata": {},
   "outputs": [],
   "source": []
  }
 ],
 "metadata": {
  "kernelspec": {
   "display_name": "Python 3 (ipykernel)",
   "language": "python",
   "name": "python3"
  },
  "language_info": {
   "codemirror_mode": {
    "name": "ipython",
    "version": 3
   },
   "file_extension": ".py",
   "mimetype": "text/x-python",
   "name": "python",
   "nbconvert_exporter": "python",
   "pygments_lexer": "ipython3",
   "version": "3.11.5"
  }
 },
 "nbformat": 4,
 "nbformat_minor": 5
}
