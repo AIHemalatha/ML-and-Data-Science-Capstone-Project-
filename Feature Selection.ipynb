{
 "cells": [
  {
   "cell_type": "code",
   "execution_count": 1,
   "id": "cb37ca31-4f43-43a3-b2bc-1ada4e87a8ef",
   "metadata": {},
   "outputs": [],
   "source": [
    "import pandas as pd\n",
    "from sklearn.model_selection import train_test_split\n",
    "from sklearn.preprocessing import StandardScaler, MinMaxScaler\n",
    "from sklearn.feature_selection import SelectKBest, chi2, f_classif, mutual_info_classif\n",
    "from sklearn.linear_model import LogisticRegression\n",
    "from sklearn.svm import SVC\n",
    "from sklearn.naive_bayes import GaussianNB\n",
    "from sklearn.neighbors import KNeighborsClassifier\n",
    "from sklearn.tree import DecisionTreeClassifier\n",
    "from sklearn.ensemble import RandomForestClassifier\n",
    "from sklearn.metrics import accuracy_score\n",
    "from sklearn.ensemble import GradientBoostingClassifier, AdaBoostClassifier, VotingClassifier\n",
    "import warnings\n",
    "warnings.filterwarnings(\"ignore\", category=FutureWarning)"
   ]
  },
  {
   "cell_type": "code",
   "execution_count": 2,
   "id": "41a4bc36-5f46-4562-8463-9cbd17abc2ed",
   "metadata": {},
   "outputs": [],
   "source": [
    "dataset = pd.read_csv(\"Telco-Customer-Churn.csv\")"
   ]
  },
  {
   "cell_type": "code",
   "execution_count": 3,
   "id": "50a4ed85-e956-4b54-a6d0-482f48241247",
   "metadata": {},
   "outputs": [],
   "source": [
    "dataset.drop(\"customerID\", axis=1, inplace=True)"
   ]
  },
  {
   "cell_type": "code",
   "execution_count": 4,
   "id": "4f142036-8863-49f3-a1a8-3170f07e8a9b",
   "metadata": {},
   "outputs": [],
   "source": [
    "dataset['TotalCharges'] = pd.to_numeric(dataset['TotalCharges'], errors='coerce')\n",
    "dataset['TotalCharges'].fillna(dataset['TotalCharges'].mean(), inplace=True)"
   ]
  },
  {
   "cell_type": "code",
   "execution_count": 5,
   "id": "c8c020d0-e7f1-459e-8016-b1da6819bd1f",
   "metadata": {},
   "outputs": [],
   "source": [
    "dataset = dataset.apply(lambda x: x.map({'Yes': 1, 'No': 0}) if x.dtypes == 'object' and set(x.unique()) <= {'Yes', 'No'} else x)\n",
    "dataset = pd.get_dummies(dataset, drop_first=True)"
   ]
  },
  {
   "cell_type": "code",
   "execution_count": 6,
   "id": "a389939a-d43f-4231-ae32-c2862f567506",
   "metadata": {},
   "outputs": [],
   "source": [
    "# Define features and target\n",
    "X = dataset.drop(\"Churn\", axis=1)\n",
    "y = dataset[\"Churn\"]"
   ]
  },
  {
   "cell_type": "code",
   "execution_count": 7,
   "id": "a9a62837-959d-472b-99a8-24288228d862",
   "metadata": {},
   "outputs": [],
   "source": [
    "# Model training function\n",
    "def train_models(X, y):\n",
    "    models = {\n",
    "        \"Logistic\": LogisticRegression(max_iter=1000),\n",
    "        \"SVM Linear\": SVC(kernel=\"linear\"),\n",
    "        \"SVM RBF\": SVC(kernel=\"rbf\"),\n",
    "        \"Naive Bayes\": GaussianNB(),\n",
    "        \"KNN\": KNeighborsClassifier(),\n",
    "        \"Decision Tree\": DecisionTreeClassifier(),\n",
    "        \"Random Forest\": RandomForestClassifier(),\n",
    "        \"Gradient Boosting\": GradientBoostingClassifier(),\n",
    "        \"AdaBoost\": AdaBoostClassifier(),\n",
    "    }\n",
    "\n",
    "    results = {}\n",
    "    X_train, X_test, y_train, y_test = train_test_split(X, y, test_size=0.25, random_state=42)\n",
    "    \n",
    "    for name, model in models.items():\n",
    "        model.fit(X_train, y_train)\n",
    "        y_pred = model.predict(X_test)\n",
    "        acc = accuracy_score(y_test, y_pred)\n",
    "        results[name] = acc\n",
    "    \n",
    "    return results"
   ]
  },
  {
   "cell_type": "code",
   "execution_count": 8,
   "id": "1f071c77-55b2-4734-bcdf-9316aeeee831",
   "metadata": {},
   "outputs": [],
   "source": [
    "# Chi2\n",
    "X_chi2 = MinMaxScaler().fit_transform(X)\n",
    "X_chi2_selected = SelectKBest(score_func=chi2, k=10).fit_transform(X_chi2, y)\n",
    "chi2_results = train_models(X_chi2_selected, y)"
   ]
  },
  {
   "cell_type": "code",
   "execution_count": 9,
   "id": "9514c316-dfe6-4eec-9aff-677b391c7c3e",
   "metadata": {},
   "outputs": [],
   "source": [
    "# ANOVA\n",
    "X_anova = StandardScaler().fit_transform(X)\n",
    "X_anova_selected = SelectKBest(score_func=f_classif, k=10).fit_transform(X_anova, y)\n",
    "anova_results = train_models(X_anova_selected, y)"
   ]
  },
  {
   "cell_type": "code",
   "execution_count": 10,
   "id": "bef83adf-d37c-4816-9254-556a67244b0a",
   "metadata": {},
   "outputs": [],
   "source": [
    "# Mutual Information\n",
    "X_mutual = StandardScaler().fit_transform(X)\n",
    "X_mutual_selected = SelectKBest(score_func=mutual_info_classif, k=10).fit_transform(X_mutual, y)\n",
    "mutual_results = train_models(X_mutual_selected, y)"
   ]
  },
  {
   "cell_type": "code",
   "execution_count": 11,
   "id": "3aff5b05-ddd0-4117-8d13-28fcb97cdd8b",
   "metadata": {},
   "outputs": [
    {
     "name": "stdout",
     "output_type": "stream",
     "text": [
      "             Logistic  SVM Linear   SVM RBF  Naive Bayes       KNN  \\\n",
      "Chi2         0.760931    0.727995  0.760931     0.592845  0.734242   \n",
      "ANOVA        0.799546    0.802385  0.797842     0.592845  0.778535   \n",
      "Mutual_Info  0.802385    0.796139  0.796706     0.616127  0.769449   \n",
      "\n",
      "             Decision Tree  Random Forest  Gradient Boosting  AdaBoost  \n",
      "Chi2              0.760931       0.760931           0.760931  0.760931  \n",
      "ANOVA             0.792164       0.790460           0.802385  0.792164  \n",
      "Mutual_Info       0.724588       0.777967           0.796706  0.792731  \n"
     ]
    }
   ],
   "source": [
    "# Combine and compare\n",
    "final_results = pd.DataFrame({\n",
    "    \"Chi2\": chi2_results,\n",
    "    \"ANOVA\": anova_results,\n",
    "    \"Mutual_Info\": mutual_results\n",
    "})\n",
    "\n",
    "print(final_results.T)  # Transposed view for better readability"
   ]
  },
  {
   "cell_type": "code",
   "execution_count": 12,
   "id": "069e3f6b-1648-427f-928d-74d8a52d9229",
   "metadata": {},
   "outputs": [],
   "source": [
    "#From the above looks live mutual information Logistic is the best feature selection"
   ]
  },
  {
   "cell_type": "code",
   "execution_count": 13,
   "id": "46598c23-519b-4184-8c4c-22290dfe9a8d",
   "metadata": {},
   "outputs": [
    {
     "name": "stdout",
     "output_type": "stream",
     "text": [
      "✅ Best model is 'Mutual_Info' with 'Logistic' feature selection. Accuracy: 0.8024\n"
     ]
    }
   ],
   "source": [
    "max_value = final_results.values.max()\n",
    "max_location = final_results.stack().idxmax()\n",
    "feature_method, model_name = max_location\n",
    "print(f\"✅ Best model is '{model_name}' with '{feature_method}' feature selection. Accuracy: {max_value:.4f}\")"
   ]
  },
  {
   "cell_type": "code",
   "execution_count": null,
   "id": "f723d97a-b074-43ba-8606-c80bda112e62",
   "metadata": {},
   "outputs": [],
   "source": []
  }
 ],
 "metadata": {
  "kernelspec": {
   "display_name": "Python 3 (ipykernel)",
   "language": "python",
   "name": "python3"
  },
  "language_info": {
   "codemirror_mode": {
    "name": "ipython",
    "version": 3
   },
   "file_extension": ".py",
   "mimetype": "text/x-python",
   "name": "python",
   "nbconvert_exporter": "python",
   "pygments_lexer": "ipython3",
   "version": "3.11.5"
  }
 },
 "nbformat": 4,
 "nbformat_minor": 5
}
