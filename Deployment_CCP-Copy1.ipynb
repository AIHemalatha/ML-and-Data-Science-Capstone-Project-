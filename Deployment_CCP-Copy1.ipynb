{
 "cells": [
  {
   "cell_type": "code",
   "execution_count": 1,
   "id": "a318b155-aaec-4472-9b61-5c57045d2be5",
   "metadata": {},
   "outputs": [],
   "source": [
    "# Step 1: Import Libraries\n",
    "import pandas as pd\n",
    "import joblib"
   ]
  },
  {
   "cell_type": "code",
   "execution_count": 2,
   "id": "96efa281-0494-4952-8d79-42d60871ad10",
   "metadata": {},
   "outputs": [],
   "source": [
    "# Load the trained pipeline\n",
    "pipeline = joblib.load(\"Final_model_pipeline.sav\")"
   ]
  },
  {
   "cell_type": "code",
   "execution_count": 10,
   "id": "1bc7c2f3-7f0a-40c4-83a8-80a1ed330a5d",
   "metadata": {},
   "outputs": [],
   "source": [
    "# New data (only include all features with same dummy names)\n",
    "new_data = pd.DataFrame([{\n",
    "    'tenure': 12,\n",
    "    'InternetService_Fiber_optic': 1,\n",
    "    'StreamingMovies_No_internet_service': 1,\n",
    "    'Contract_Two_year': 1,\n",
    "    'PaymentMethod_Electronic_check': 1,\n",
    "}])"
   ]
  },
  {
   "cell_type": "code",
   "execution_count": 8,
   "id": "8b539a2d-ecd5-4b97-9479-955f91189729",
   "metadata": {},
   "outputs": [
    {
     "name": "stdout",
     "output_type": "stream",
     "text": [
      "Prediction: No Churn\n"
     ]
    }
   ],
   "source": [
    "# Reindex to match training columns (fill missing with 0s)\n",
    "trained_columns = pipeline.named_steps['scaler'].feature_names_in_\n",
    "new_data_full = pd.DataFrame(columns=trained_columns)\n",
    "new_data_full.loc[0] = 0\n",
    "for col in new_data.columns:\n",
    "    if col in new_data_full.columns:\n",
    "        new_data_full.at[0, col] = new_data.at[0, col]\n",
    "# Predict\n",
    "prediction = pipeline.predict(new_data_full)\n",
    "print(\"Prediction:\", \"Churn\" if prediction[0] == 1 else \"No Churn\")"
   ]
  },
  {
   "cell_type": "code",
   "execution_count": 9,
   "id": "675b11bf-e269-4b6f-9697-96f79b49fd4b",
   "metadata": {},
   "outputs": [
    {
     "name": "stdout",
     "output_type": "stream",
     "text": [
      "Churn Probability: 26.46%\n"
     ]
    }
   ],
   "source": [
    "probability = pipeline.predict_proba(new_data_full)[0][1] \n",
    "print(\"Churn Probability:\", f\"{probability:.2%}\")"
   ]
  },
  {
   "cell_type": "code",
   "execution_count": null,
   "id": "db27823b-c01f-4b8e-a0e2-8caf5c705829",
   "metadata": {},
   "outputs": [],
   "source": []
  }
 ],
 "metadata": {
  "kernelspec": {
   "display_name": "Python 3 (ipykernel)",
   "language": "python",
   "name": "python3"
  },
  "language_info": {
   "codemirror_mode": {
    "name": "ipython",
    "version": 3
   },
   "file_extension": ".py",
   "mimetype": "text/x-python",
   "name": "python",
   "nbconvert_exporter": "python",
   "pygments_lexer": "ipython3",
   "version": "3.11.5"
  }
 },
 "nbformat": 4,
 "nbformat_minor": 5
}
